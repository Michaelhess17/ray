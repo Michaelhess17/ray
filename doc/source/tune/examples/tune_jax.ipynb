{
 "cells": [
  {
   "cell_type": "markdown",
   "metadata": {},
   "source": [
    "(tune-equinox)=\n",
    "# Tune Neural ODE Models Using Jax and Equinox\n",
    "## What is a neural differential equation?\n",
    "First, recall that a differential equation is an equation which relates a function to its derivative \n",
    "\n",
    "$$\\frac{d\\vec{y}}{dt} = f(t, \\vec{y}(t))$$\n",
    "\n",
    "A solution to this equation takes the form\n",
    "\n",
    "$$\\vec{y}(t) = \\vec{y}(0) + \\int_0^t{f(s, \\vec{y}(s))ds}$$\n",
    "\n",
    "where $\\vec{y}(0)$ is the initial condition for the solution.\n",
    "\n",
    "If we don't know what function `f` is, we can approximate it using a trainable function such as a deep neural network with learnable weights. This idea is the basis of neural differential equations and can be generalized to most forms of differential equations (stochastic, controlled, partial, delay, etc.). Further, we can use this dynamical framework to improve performance on tasks not that are not inherently dynamical, like [image recoginition](https://arxiv.org/pdf/2312.01657). Efficient handling of backpropagation via adjoints is an important topic discussed more [here](https://docs.kidger.site/diffrax/api/adjoints/), and notably [innovated by Chen et al in 2018](https://arxiv.org/abs/1806.07366), but that is outside of the scope of this tutorial.\n",
    "\n",
    "In this example, we will train the neural network for signal forecasting, but many other training options like classification or sequence-to-sequence generation are possible.\n",
    "\n",
    "## Why Jax?\n",
    "[Jax](https://jax.dev) is an accelerator-focused framework for array computations and program transformations, including automatic differentiation, compilation, and parallelization. Like PyTorch, Jax uses a similar API to NumPy, which makes transitioning feel smoother for developers familiar with the NumPy or PyTorch frameworks. Jax makes it easy to Just-in-Time (JIT) compile Python code, run the same code on CPUs, GPUs, and TPUs, and parallelize workflows. These properties make Jax an ideal candidate for accelerating deep learning tasks, and Ray can allow us one level on top of Jax to manage accelerator scheduling and to apply efficient hyperparameter tuning algorithms.\n",
    "\n",
    "In this example, we use [Equinox](https://docs.kidger.site/equinox) to define our neural network model, [Diffrax](https://docs.kidger.site/diffrax) for differential equation solvers, and [optax](https://github.com/google/optax) to optimize the parameters of our neural networks. To avoid system deadlocks on the CPU, make sure to run the network training on the GPU by installing the `cuda12` extras for Jax.\n",
    "\n",
    ":::{note}\n",
    "To run this example, you will need to install the following:\n",
    "\n",
    "```bash\n",
    "$ pip install ray jax[cuda12] diffrax equinox optax\n",
    "```\n",
    ":::\n",
    "\n",
    "```{contents}\n",
    ":backlinks: none\n",
    ":local: true\n",
    "```"
   ]
  },
  {
   "cell_type": "markdown",
   "metadata": {},
   "source": [
    "## Package imports"
   ]
  },
  {
   "cell_type": "markdown",
   "metadata": {},
   "source": [
    "Let's start by importing the packages we'll need for this example"
   ]
  },
  {
   "cell_type": "code",
   "execution_count": 1,
   "metadata": {},
   "outputs": [],
   "source": [
    "import os\n",
    "# Prevent preeallocating entire GPU memory, locking us out of the device\n",
    "os.environ[\"XLA_PYTHON_CLIENT_PREALLOCATE\"] = \"false\"\n",
    "import tempfile\n",
    "import copy\n",
    "import json\n",
    "\n",
    "import jax\n",
    "import jax.numpy as jnp\n",
    "import jax.random as jr\n",
    "import equinox as eqx\n",
    "import diffrax\n",
    "import optax\n",
    "from orbax.checkpoint import PyTreeCheckpointer\n",
    "\n",
    "import matplotlib.pyplot as plt\n",
    "\n",
    "from ray import tune\n",
    "from ray.tune import Checkpoint\n",
    "from ray.tune.schedulers import ASHAScheduler"
   ]
  },
  {
   "cell_type": "markdown",
   "metadata": {},
   "source": [
    "## Create the model"
   ]
  },
  {
   "cell_type": "markdown",
   "metadata": {},
   "source": [
    "We'll be building on the example from the [Diffrax documentation](https://docs.kidger.site/diffrax/examples/neural_ode) on Neural ODEs by adding hyperparameter tuning. Our first step toward building a neural ODE model in equinox is to build the core neural network driving the dynamics, which we will call `Func`. Referring back to the description of neural differential equations, this model will serve as the trainable function, $f_\\theta$, where $\\theta$ are the network parameters we will optimize. There are several parameters we need to provide here:\n",
    "- `ode_size`: The number of dimensions/features our model will input/output\n",
    "- `width_size`: The number of neurons in each layer of the network\n",
    "- `depth`: The number of layers in the network\n",
    "\n",
    "We will also provide a pseudorandom `key` keyword argument (given as a `jax.random.PRNGKey`), which Jax will use for reproducible randomization. "
   ]
  },
  {
   "cell_type": "code",
   "execution_count": 2,
   "metadata": {},
   "outputs": [],
   "source": [
    "class Func(eqx.Module):\n",
    "    mlp: eqx.nn.MLP\n",
    "    scale: float\n",
    "\n",
    "    def __init__(self, ode_size, width_size, depth, *, key, scale=1.0, **kwargs):\n",
    "        super().__init__(**kwargs)\n",
    "        self.scale = scale\n",
    "        self.mlp = eqx.nn.MLP(\n",
    "            in_size=ode_size,\n",
    "            out_size=ode_size,\n",
    "            width_size=width_size,\n",
    "            depth=depth,\n",
    "            activation=jax.nn.tanh,\n",
    "            key=key,\n",
    "        )\n",
    "\n",
    "    def __call__(self, t, y, args):\n",
    "        return self.scale * self.mlp(y)"
   ]
  },
  {
   "cell_type": "markdown",
   "metadata": {},
   "source": [
    "Next, we'll define a `NeuralODE` class which will hold handle the logic for using the `Func` network's parameters in an ordinary differential equation solver. For this example, we'll use the `diffrax.Tsit5()` solver when training the model, but we could use simpler solvers like `diffrax.Euler()` for faster training or more complex solvers tailored for different scenarios. For a complete list of solvers and a guide for how to choose the correct solver for your situation, see the [Diffrax documentation](https://docs.kidger.site/diffrax/usage/how-to-choose-a-solver/). "
   ]
  },
  {
   "cell_type": "code",
   "execution_count": 3,
   "metadata": {},
   "outputs": [],
   "source": [
    "class NeuralODE(eqx.Module):\n",
    "    func: eqx.Module\n",
    "\n",
    "    def __init__(self, ode_size, width_size, depth, *, key, scale=1.0):\n",
    "        self.func = Func(ode_size, width_size, depth, key=key, scale=scale)\n",
    "\n",
    "    def __call__(self, ts, ys):\n",
    "        y0 = ys[0, :]\n",
    "        solution = diffrax.diffeqsolve(\n",
    "            diffrax.ODETerm(self.func),\n",
    "            diffrax.Tsit5(),\n",
    "            t0=ts[0],\n",
    "            t1=ts[-1],\n",
    "            dt0=ts[1] - ts[0],\n",
    "            y0=y0,\n",
    "            stepsize_controller=diffrax.PIDController(rtol=1e-3, atol=1e-5),\n",
    "            saveat=diffrax.SaveAt(ts=ts),\n",
    "            max_steps=8192,\n",
    "        )\n",
    "        return solution.ys"
   ]
  },
  {
   "cell_type": "markdown",
   "metadata": {},
   "source": [
    "## Create training data"
   ]
  },
  {
   "cell_type": "markdown",
   "metadata": {},
   "source": [
    "Now, let's make some example data. These will just be simple oscillatory signals that look like deformed sines and cosines."
   ]
  },
  {
   "cell_type": "code",
   "execution_count": 4,
   "metadata": {},
   "outputs": [],
   "source": [
    "def _get_data(ts, *, key):\n",
    "    y0 = jr.uniform(key, (2,), minval=-0.6, maxval=1)\n",
    "\n",
    "    def f(t, y, args):\n",
    "        x = y / (1 + y)\n",
    "        return jnp.stack([x[1], -x[0]], axis=-1)\n",
    "\n",
    "    solver = diffrax.Tsit5()\n",
    "    dt0 = 0.1\n",
    "    saveat = diffrax.SaveAt(ts=ts)\n",
    "    sol = diffrax.diffeqsolve(\n",
    "        diffrax.ODETerm(f), solver, ts[0], ts[-1], dt0, y0, saveat=saveat\n",
    "    )\n",
    "    ys = sol.ys\n",
    "    return ys\n",
    "\n",
    "\n",
    "def get_data(dataset_size, *, key):\n",
    "    ts = jnp.linspace(0, 10, 100)\n",
    "    key = jr.split(key, dataset_size)\n",
    "    ys = jax.vmap(lambda key: _get_data(ts, key=key))(key)\n",
    "    return ts, ys"
   ]
  },
  {
   "cell_type": "markdown",
   "metadata": {},
   "source": [
    "Create a generator function to batch our data"
   ]
  },
  {
   "cell_type": "code",
   "execution_count": 5,
   "metadata": {},
   "outputs": [],
   "source": [
    "def dataloader(arrays, batch_size, *, key):\n",
    "    dataset_size = arrays[0].shape[0]\n",
    "    indices = jnp.arange(dataset_size)\n",
    "    while True:\n",
    "        perm = jr.permutation(key, indices)\n",
    "        (key,) = jr.split(key, 1)\n",
    "        start = 0\n",
    "        end = batch_size\n",
    "        while start < dataset_size:\n",
    "            batch_perm = perm[start:end]\n",
    "            yield tuple(array[batch_perm] for array in arrays)\n",
    "            start = end\n",
    "            end = start + batch_size"
   ]
  },
  {
   "cell_type": "markdown",
   "metadata": {},
   "source": [
    "## Set global parameters\n",
    "Here, we set some global parameters that will be shared by all training sessions, including creating the data and the search space we'll use for `ray.tune`. We'll also only use the first half of our signals for training and the second half of the signals to evaluate how well our models are fit and extrapolate."
   ]
  },
  {
   "cell_type": "code",
   "execution_count": 6,
   "metadata": {},
   "outputs": [],
   "source": [
    "steps = 1000\n",
    "checkpoint_every = 500\n",
    "seed = 5678\n",
    "dataset_size = 256\n",
    "key = jr.PRNGKey(seed)\n",
    "data_key, model_key, loader_key = jr.split(key, 3)\n",
    "\n",
    "ts, ys = get_data(dataset_size, key=data_key)\n",
    "\n",
    "train_size = 0.6\n",
    "train_ts, test_ts = ts[:int(jnp.ceil(train_size * len(ts)))], ts[int(jnp.ceil(train_size * len(ts))):]\n",
    "train_ys, test_ys = ys[:, :int(jnp.ceil(train_size * len(ts)))], ys[:, int(jnp.ceil(train_size * len(ts))):]\n",
    "_, length_size, data_size = train_ys.shape\n",
    "\n",
    "config = {\n",
    "    \"batch_size\": tune.choice([32, 128, 512]),\n",
    "    \"lr\": tune.loguniform(1e-7, 1e-2),\n",
    "    \"width_size\": tune.choice([32, 128, 512]),\n",
    "    \"depth\": tune.choice([1, 3, 5]),\n",
    "}"
   ]
  },
  {
   "cell_type": "markdown",
   "metadata": {},
   "source": [
    "## Define the training loop\n",
    "Now, we'll define a function `train_fn` that takes a configuration dictionary, creates the model, and trains it. We also have some logic to handle checkpointing and resuming from checkpoints here."
   ]
  },
  {
   "cell_type": "code",
   "execution_count": 7,
   "metadata": {},
   "outputs": [],
   "source": [
    "def train_fn(config):\n",
    "    batch_size = config[\"batch_size\"]\n",
    "    width_size = config[\"width_size\"]\n",
    "    depth = config[\"depth\"]\n",
    "    lr = config[\"lr\"]\n",
    "\n",
    "    model = NeuralODE(data_size, width_size, depth, key=model_key)\n",
    "\n",
    "    @eqx.filter_value_and_grad\n",
    "    def grad_loss(model, ti, yi):\n",
    "        y_pred = jax.vmap(model, in_axes=(None, 0))(ti, yi)\n",
    "        return jnp.mean((yi - y_pred) ** 2)\n",
    "\n",
    "    @eqx.filter_jit\n",
    "    def make_step(ti, yi, model, opt_state):\n",
    "        loss, grads = grad_loss(model, ti, yi)\n",
    "        updates, opt_state = optim.update(grads, opt_state)\n",
    "        model = eqx.apply_updates(model, updates)\n",
    "        return loss, model, opt_state\n",
    "\n",
    "    optim = optax.adabelief(lr)\n",
    "\n",
    "    checkpoint = tune.get_checkpoint()\n",
    "    if checkpoint:\n",
    "        with checkpoint.as_directory() as checkpoint_dir:\n",
    "            opt_state_loc = os.path.join(checkpoint_dir, \"opt_state.eqx\")\n",
    "            model_loc = os.path.join(checkpoint_dir, \"model.eqx\")\n",
    "\n",
    "            base_model = NeuralODE(\n",
    "                ode_size=data_size,\n",
    "                width_size=width_size,\n",
    "                depth=depth,\n",
    "                key=model_key\n",
    "            )\n",
    "\n",
    "            model = eqx.tree_deserialise_leaves(model_loc, copy.deepcopy(base_model))\n",
    "            opt_state = optim.init(eqx.filter(model, eqx.is_array))\n",
    "            opt_state = eqx.tree_deserialise_leaves(opt_state_loc, opt_state)\n",
    "\n",
    "    else:\n",
    "        opt_state = optim.init(eqx.filter(model, eqx.is_array))\n",
    "\n",
    "    for step, (yi,) in zip(\n",
    "        range(steps), dataloader((train_ys,), batch_size, key=loader_key)\n",
    "    ):\n",
    "        loss, model, opt_state = make_step(train_ts, yi, model, opt_state)\n",
    "\n",
    "        test_model_ys = jax.vmap(model, in_axes=(None, 0))(test_ts, test_ys)\n",
    "        test_loss = jnp.mean((test_model_ys - test_ys)**2)\n",
    "        checkpoint_data = {\n",
    "            \"train_loss\": float(loss),\n",
    "            \"test_loss\": float(test_loss),\n",
    "            \"step\": int(step),\n",
    "        }\n",
    "        if (step % checkpoint_every) == 0:\n",
    "            with tempfile.TemporaryDirectory() as temp_dir:\n",
    "                ckpt_loc = os.path.join(temp_dir, \"checkpoint\")\n",
    "                PyTreeCheckpointer().save(ckpt_loc, checkpoint_data)\n",
    "                opt_state_loc = os.path.join(ckpt_loc, \"opt_state.eqx\")\n",
    "                model_loc = os.path.join(ckpt_loc, \"model.eqx\")\n",
    "\n",
    "                print(f\"Creating checkpoint at {ckpt_loc}\")\n",
    "\n",
    "                eqx.tree_serialise_leaves(model_loc, model)\n",
    "                eqx.tree_serialise_leaves(opt_state_loc, opt_state)\n",
    "\n",
    "                tune.report(\n",
    "                    checkpoint_data,\n",
    "                    checkpoint=Checkpoint.from_directory(ckpt_loc)\n",
    "                )\n",
    "        else:\n",
    "            tune.report(\n",
    "                checkpoint_data\n",
    "            )\n",
    "\n",
    "    return ts, ys, model"
   ]
  },
  {
   "cell_type": "markdown",
   "metadata": {},
   "source": [
    "## Train the model\n",
    "The `main` function will run our tuning session."
   ]
  },
  {
   "cell_type": "code",
   "execution_count": 8,
   "metadata": {},
   "outputs": [],
   "source": [
    "\n",
    "def main(gpus_per_trial=0.2, SMOKE_TEST=True):\n",
    "    num_samples = 5 if SMOKE_TEST else 30\n",
    "    scheduler = ASHAScheduler(max_t=steps, grace_period=200, reduction_factor=2)\n",
    "    tuner = tune.Tuner(\n",
    "        tune.with_resources(\n",
    "            tune.with_parameters(train_fn),\n",
    "            resources={\"cpu\": 1, \"gpu\": gpus_per_trial}\n",
    "        ),\n",
    "        run_config = tune.RunConfig(\n",
    "            name=\"node_asha\",\n",
    "            stop={\"training_iteration\": steps},\n",
    "        ),\n",
    "        tune_config=tune.TuneConfig(\n",
    "            scheduler=scheduler,\n",
    "            metric=\"test_loss\",\n",
    "            mode=\"min\",\n",
    "            num_samples=num_samples,\n",
    "            reuse_actors=True,\n",
    "        ),\n",
    "        param_space=config,\n",
    "    )\n",
    "    results = tuner.fit()\n",
    "    return results\n"
   ]
  },
  {
   "cell_type": "code",
   "execution_count": 9,
   "metadata": {},
   "outputs": [
    {
     "data": {
      "text/html": [
       "<div class=\"tuneStatus\">\n",
       "  <div style=\"display: flex;flex-direction: row\">\n",
       "    <div style=\"display: flex;flex-direction: column;\">\n",
       "      <h3>Tune Status</h3>\n",
       "      <table>\n",
       "<tbody>\n",
       "<tr><td>Current time:</td><td>2025-02-28 22:59:00</td></tr>\n",
       "<tr><td>Running for: </td><td>00:04:13.25        </td></tr>\n",
       "<tr><td>Memory:      </td><td>18.9/125.5 GiB     </td></tr>\n",
       "</tbody>\n",
       "</table>\n",
       "    </div>\n",
       "    <div class=\"vDivider\"></div>\n",
       "    <div class=\"systemInfo\">\n",
       "      <h3>System Info</h3>\n",
       "      Using AsyncHyperBand: num_stopped=4<br>Bracket: Iter 800.000: -0.0009719272493384778 | Iter 400.000: -0.004448685562238097 | Iter 200.000: -0.05575741454958916<br>Logical resource usage: 1.0/24 CPUs, 0.2/1 GPUs (0.0/1.0 accelerator_type:G)\n",
       "    </div>\n",
       "    \n",
       "  </div>\n",
       "  <div class=\"hDivider\"></div>\n",
       "  <div class=\"trialStatus\">\n",
       "    <h3>Trial Status</h3>\n",
       "    <table>\n",
       "<thead>\n",
       "<tr><th>Trial name          </th><th>status    </th><th>loc                    </th><th style=\"text-align: right;\">  batch_size</th><th style=\"text-align: right;\">  depth</th><th style=\"text-align: right;\">         lr</th><th style=\"text-align: right;\">  width_size</th><th style=\"text-align: right;\">  iter</th><th style=\"text-align: right;\">  total time (s)</th><th style=\"text-align: right;\">  train_loss</th><th style=\"text-align: right;\">  test_loss</th><th style=\"text-align: right;\">  step</th></tr>\n",
       "</thead>\n",
       "<tbody>\n",
       "<tr><td>train_fn_ead0e_00000</td><td>TERMINATED</td><td>170.140.242.213:3533005</td><td style=\"text-align: right;\">          32</td><td style=\"text-align: right;\">      3</td><td style=\"text-align: right;\">0.000874495</td><td style=\"text-align: right;\">         128</td><td style=\"text-align: right;\">  1000</td><td style=\"text-align: right;\">         249.68 </td><td style=\"text-align: right;\"> 0.000580256</td><td style=\"text-align: right;\">0.000922994</td><td style=\"text-align: right;\">   999</td></tr>\n",
       "<tr><td>train_fn_ead0e_00001</td><td>TERMINATED</td><td>170.140.242.213:3533003</td><td style=\"text-align: right;\">         512</td><td style=\"text-align: right;\">      1</td><td style=\"text-align: right;\">3.72048e-06</td><td style=\"text-align: right;\">         512</td><td style=\"text-align: right;\">   200</td><td style=\"text-align: right;\">         111.549</td><td style=\"text-align: right;\"> 0.313244   </td><td style=\"text-align: right;\">0.329914   </td><td style=\"text-align: right;\">   199</td></tr>\n",
       "<tr><td>train_fn_ead0e_00002</td><td>TERMINATED</td><td>170.140.242.213:3533006</td><td style=\"text-align: right;\">          32</td><td style=\"text-align: right;\">      5</td><td style=\"text-align: right;\">0.00236726 </td><td style=\"text-align: right;\">          32</td><td style=\"text-align: right;\">   800</td><td style=\"text-align: right;\">         232.007</td><td style=\"text-align: right;\"> 0.00180464 </td><td style=\"text-align: right;\">0.00102174 </td><td style=\"text-align: right;\">   799</td></tr>\n",
       "<tr><td>train_fn_ead0e_00003</td><td>TERMINATED</td><td>170.140.242.213:3533002</td><td style=\"text-align: right;\">         512</td><td style=\"text-align: right;\">      3</td><td style=\"text-align: right;\">8.91217e-05</td><td style=\"text-align: right;\">         128</td><td style=\"text-align: right;\">   200</td><td style=\"text-align: right;\">         100.918</td><td style=\"text-align: right;\"> 0.0490945  </td><td style=\"text-align: right;\">0.0557574  </td><td style=\"text-align: right;\">   199</td></tr>\n",
       "<tr><td>train_fn_ead0e_00004</td><td>TERMINATED</td><td>170.140.242.213:3533004</td><td style=\"text-align: right;\">         512</td><td style=\"text-align: right;\">      5</td><td style=\"text-align: right;\">1.12197e-05</td><td style=\"text-align: right;\">         128</td><td style=\"text-align: right;\">   200</td><td style=\"text-align: right;\">         105.488</td><td style=\"text-align: right;\"> 0.203071   </td><td style=\"text-align: right;\">0.190687   </td><td style=\"text-align: right;\">   199</td></tr>\n",
       "</tbody>\n",
       "</table>\n",
       "  </div>\n",
       "</div>\n",
       "<style>\n",
       ".tuneStatus {\n",
       "  color: var(--jp-ui-font-color1);\n",
       "}\n",
       ".tuneStatus .systemInfo {\n",
       "  display: flex;\n",
       "  flex-direction: column;\n",
       "}\n",
       ".tuneStatus td {\n",
       "  white-space: nowrap;\n",
       "}\n",
       ".tuneStatus .trialStatus {\n",
       "  display: flex;\n",
       "  flex-direction: column;\n",
       "}\n",
       ".tuneStatus h3 {\n",
       "  font-weight: bold;\n",
       "}\n",
       ".tuneStatus .hDivider {\n",
       "  border-bottom-width: var(--jp-border-width);\n",
       "  border-bottom-color: var(--jp-border-color0);\n",
       "  border-bottom-style: solid;\n",
       "}\n",
       ".tuneStatus .vDivider {\n",
       "  border-left-width: var(--jp-border-width);\n",
       "  border-left-color: var(--jp-border-color0);\n",
       "  border-left-style: solid;\n",
       "  margin: 0.5em 1em 0.5em 1em;\n",
       "}\n",
       "</style>\n"
      ],
      "text/plain": [
       "<IPython.core.display.HTML object>"
      ]
     },
     "metadata": {},
     "output_type": "display_data"
    },
    {
     "name": "stdout",
     "output_type": "stream",
     "text": [
      "\u001b[36m(train_fn pid=3533003)\u001b[0m Creating checkpoint at /tmp/tmp_12l0j7m/checkpoint\n"
     ]
    },
    {
     "name": "stderr",
     "output_type": "stream",
     "text": [
      "\u001b[36m(train_fn pid=3533003)\u001b[0m Checkpoint successfully created at: Checkpoint(filesystem=local, path=/home/michael/ray_results/node_asha/train_fn_ead0e_00001_1_batch_size=512,depth=1,lr=0.0000,width_size=512_2025-02-28_22-54-47/checkpoint_000000)\n"
     ]
    },
    {
     "name": "stdout",
     "output_type": "stream",
     "text": [
      "\u001b[36m(train_fn pid=3533005)\u001b[0m Creating checkpoint at /tmp/tmpxa76wl7s/checkpoint\u001b[32m [repeated 5x across cluster] (Ray deduplicates logs by default. Set RAY_DEDUP_LOGS=0 to disable log deduplication, or see https://docs.ray.io/en/master/ray-observability/user-guides/configure-logging.html#log-deduplication for more options.)\u001b[0m\n"
     ]
    },
    {
     "name": "stderr",
     "output_type": "stream",
     "text": [
      "\u001b[36m(train_fn pid=3533005)\u001b[0m Checkpoint successfully created at: Checkpoint(filesystem=local, path=/home/michael/ray_results/node_asha/train_fn_ead0e_00000_0_batch_size=32,depth=3,lr=0.0009,width_size=128_2025-02-28_22-54-46/checkpoint_000001)\u001b[32m [repeated 5x across cluster]\u001b[0m\n"
     ]
    },
    {
     "name": "stdout",
     "output_type": "stream",
     "text": [
      "\u001b[36m(train_fn pid=3533006)\u001b[0m Creating checkpoint at /tmp/tmpds71k532/checkpoint\n"
     ]
    },
    {
     "name": "stderr",
     "output_type": "stream",
     "text": [
      "\u001b[36m(train_fn pid=3533006)\u001b[0m Checkpoint successfully created at: Checkpoint(filesystem=local, path=/home/michael/ray_results/node_asha/train_fn_ead0e_00002_2_batch_size=32,depth=5,lr=0.0024,width_size=32_2025-02-28_22-54-47/checkpoint_000001)\n",
      "2025-02-28 22:59:00,193\tINFO tune.py:1009 -- Wrote the latest version of all result files and experiment state to '/home/michael/ray_results/node_asha' in 0.0037s.\n",
      "2025-02-28 22:59:00,196\tINFO tune.py:1041 -- Total run time: 253.29 seconds (253.24 seconds for the tuning loop).\n"
     ]
    }
   ],
   "source": [
    "results = main()"
   ]
  },
  {
   "cell_type": "markdown",
   "metadata": {},
   "source": [
    "## Evaluate the training results\n",
    "Now that the tuning session has completed, let's load the best weights and show the extrapolation capabilities of our neural ODE model!"
   ]
  },
  {
   "cell_type": "code",
   "execution_count": 10,
   "metadata": {},
   "outputs": [],
   "source": [
    "best_result = results.get_best_result().get_best_checkpoint(metric=\"test_loss\", mode=\"min\").path\n",
    "base_best_result = best_result.split(\"/\")[:-1]\n",
    "\n",
    "base = \"\"\n",
    "for path_elem in base_best_result:\n",
    "    base += path_elem + \"/\"\n",
    "\n",
    "config_loc = base + \"params.json\"\n",
    "with open(config_loc, \"rb\") as f:\n",
    "    config = json.load(f)\n",
    "\n",
    "model = NeuralODE(\n",
    "    ode_size=data_size,\n",
    "    depth=config[\"depth\"],\n",
    "    width_size=config[\"width_size\"],\n",
    "    key=jax.random.PRNGKey(42)\n",
    ")\n",
    "\n",
    "model = eqx.tree_deserialise_leaves(os.path.join(best_result, \"model.eqx\"), model)"
   ]
  },
  {
   "cell_type": "code",
   "execution_count": 11,
   "metadata": {},
   "outputs": [
    {
     "data": {
      "image/png": "[encoded data removed]",
      "text/plain": [
       "<Figure size 640x480 with 1 Axes>"
      ]
     },
     "metadata": {},
     "output_type": "display_data"
    }
   ],
   "source": [
    "plt.plot(ts, ys[0, :, 0], c=\"dodgerblue\", label=\"Real\")\n",
    "plt.plot(ts, ys[0, :, 1], c=\"dodgerblue\")\n",
    "model_y = model(ts, ys[0, :, :])\n",
    "plt.plot(ts, model_y[:, 0], c=\"crimson\", label=\"Model\")\n",
    "plt.plot(ts, model_y[:, 1], c=\"crimson\")\n",
    "plt.vlines(x=[train_ts[-1]], ymin=-0.6, ymax=1, linestyles=\"--\", color=\"k\", label=\"Training cutoff\")\n",
    "plt.legend()\n",
    "plt.tight_layout()\n",
    "plt.show()"
   ]
  }
 ],
 "metadata": {
  "kernelspec": {
   "display_name": "default",
   "language": "python",
   "name": "python3"
  },
  "language_info": {
   "codemirror_mode": {
    "name": "ipython",
    "version": 3
   },
   "file_extension": ".py",
   "mimetype": "text/x-python",
   "name": "python",
   "nbconvert_exporter": "python",
   "pygments_lexer": "ipython3",
   "version": "3.12.9"
  }
 },
 "nbformat": 4,
 "nbformat_minor": 2
}
