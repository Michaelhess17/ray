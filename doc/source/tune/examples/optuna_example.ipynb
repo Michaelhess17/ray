{
 "cells": [
  {
   "attachments": {},
   "cell_type": "markdown",
   "id": "a587ce4e",
   "metadata": {},
   "source": [
    "# Running Tune experiments with Optuna\n",
    "\n",
    "In this tutorial we introduce Optuna, while running a simple Ray Tune experiment. Tune’s Search Algorithms integrate with Optuna and, as a result, allow you to seamlessly scale up a Optuna optimization process - without sacrificing performance.\n",
    "\n",
    "Similar to Ray Tune, Optuna is an automatic hyperparameter optimization software framework, particularly designed for machine learning. It features an imperative (\"how\" over \"what\" emphasis), define-by-run style user API. With Optuna, a user has the ability to dynamically construct the search spaces for the hyperparameters. Optuna falls in the domain of \"derivative-free optimization\" and \"black-box optimization\".\n",
    "\n",
    "In this example we minimize a simple objective to briefly demonstrate the usage of Optuna with Ray Tune via `OptunaSearch`, including examples of conditional search spaces (string together relationships between hyperparameters), and the multi-objective problem (measure trade-offs among all important metrics). It's useful to keep in mind that despite the emphasis on machine learning experiments, Ray Tune optimizes any implicit or explicit objective. Here we assume `optuna==2.9.1` library is installed. To learn more, please refer to [Optuna website](https://optuna.org/).\n",
    "\n",
    "Please note that sophisticated schedulers, such as `AsyncHyperBandScheduler`, may not work correctly with multi-objective optimization, since they typically expect a scalar score to compare fitness among trials.\n"
   ]
  },
  {
   "cell_type": "code",
   "execution_count": 25,
   "id": "aeaf9ff0",
   "metadata": {
    "tags": [
     "hide-output"
    ]
   },
   "outputs": [
    {
     "name": "stdout",
     "output_type": "stream",
     "text": [
      "Requirement already satisfied: optuna>=3.0.0 in /opt/miniconda3/envs/optuna/lib/python3.11/site-packages (4.2.0)\n",
      "Requirement already satisfied: alembic>=1.5.0 in /opt/miniconda3/envs/optuna/lib/python3.11/site-packages (from optuna>=3.0.0) (1.14.1)\n",
      "Requirement already satisfied: colorlog in /opt/miniconda3/envs/optuna/lib/python3.11/site-packages (from optuna>=3.0.0) (6.9.0)\n",
      "Requirement already satisfied: numpy in /opt/miniconda3/envs/optuna/lib/python3.11/site-packages (from optuna>=3.0.0) (2.2.2)\n",
      "Requirement already satisfied: packaging>=20.0 in /opt/miniconda3/envs/optuna/lib/python3.11/site-packages (from optuna>=3.0.0) (24.2)\n",
      "Requirement already satisfied: sqlalchemy>=1.4.2 in /opt/miniconda3/envs/optuna/lib/python3.11/site-packages (from optuna>=3.0.0) (2.0.38)\n",
      "Requirement already satisfied: tqdm in /opt/miniconda3/envs/optuna/lib/python3.11/site-packages (from optuna>=3.0.0) (4.67.1)\n",
      "Requirement already satisfied: PyYAML in /opt/miniconda3/envs/optuna/lib/python3.11/site-packages (from optuna>=3.0.0) (6.0.2)\n",
      "Requirement already satisfied: Mako in /opt/miniconda3/envs/optuna/lib/python3.11/site-packages (from alembic>=1.5.0->optuna>=3.0.0) (1.3.9)\n",
      "Requirement already satisfied: typing-extensions>=4 in /opt/miniconda3/envs/optuna/lib/python3.11/site-packages (from alembic>=1.5.0->optuna>=3.0.0) (4.12.2)\n",
      "Requirement already satisfied: MarkupSafe>=0.9.2 in /opt/miniconda3/envs/optuna/lib/python3.11/site-packages (from Mako->alembic>=1.5.0->optuna>=3.0.0) (3.0.2)\n"
     ]
    }
   ],
   "source": [
    "# !pip install \"ray[tune]\"\n",
    "!pip install \"optuna>=3.0.0\"\n"
   ]
  },
  {
   "attachments": {},
   "cell_type": "markdown",
   "id": "467466a3",
   "metadata": {},
   "source": [
    "Click below to see all the imports we need for this example.\n",
    "You can also launch directly into a Binder instance to run this notebook yourself.\n",
    "Just click on the rocket symbol at the top of the navigation."
   ]
  },
  {
   "cell_type": "code",
   "execution_count": 26,
   "id": "fb1ad624",
   "metadata": {
    "tags": [
     "hide-output"
    ]
   },
   "outputs": [],
   "source": [
    "import time\n",
    "from typing import Dict, Optional, Any\n",
    "\n",
    "import ray\n",
    "from ray import train, tune\n",
    "from ray.tune.search import ConcurrencyLimiter\n",
    "from ray.tune.search.optuna import OptunaSearch"
   ]
  },
  {
   "cell_type": "code",
   "execution_count": 27,
   "id": "e64f0b44",
   "metadata": {
    "tags": [
     "hide-output"
    ]
   },
   "outputs": [
    {
     "data": {
      "text/html": [
       "<div class=\"lm-Widget p-Widget lm-Panel p-Panel jp-Cell-outputWrapper\">\n",
       "    <div style=\"margin-left: 50px;display: flex;flex-direction: row;align-items: center\">\n",
       "        <div class=\"jp-RenderedHTMLCommon\" style=\"display: flex; flex-direction: row;\">\n",
       "  <svg viewBox=\"0 0 567 224\" fill=\"none\" xmlns=\"http://www.w3.org/2000/svg\" style=\"height: 3em;\">\n",
       "    <g clip-path=\"url(#clip0_4338_178347)\">\n",
       "        <path d=\"M341.29 165.561H355.29L330.13 129.051C345.63 123.991 354.21 112.051 354.21 94.2307C354.21 71.3707 338.72 58.1807 311.88 58.1807H271V165.561H283.27V131.661H311.8C314.25 131.661 316.71 131.501 319.01 131.351L341.25 165.561H341.29ZM283.29 119.851V70.0007H311.82C331.3 70.0007 342.34 78.2907 342.34 94.5507C342.34 111.271 331.34 119.861 311.82 119.861L283.29 119.851ZM451.4 138.411L463.4 165.561H476.74L428.74 58.1807H416L367.83 165.561H380.83L392.83 138.411H451.4ZM446.19 126.601H398L422 72.1407L446.24 126.601H446.19ZM526.11 128.741L566.91 58.1807H554.35L519.99 114.181L485.17 58.1807H472.44L514.01 129.181V165.541H526.13V128.741H526.11Z\" fill=\"var(--jp-ui-font-color0)\"/>\n",
       "        <path d=\"M82.35 104.44C84.0187 97.8827 87.8248 92.0678 93.1671 87.9146C98.5094 83.7614 105.083 81.5067 111.85 81.5067C118.617 81.5067 125.191 83.7614 130.533 87.9146C135.875 92.0678 139.681 97.8827 141.35 104.44H163.75C164.476 101.562 165.622 98.8057 167.15 96.2605L127.45 56.5605C121.071 60.3522 113.526 61.6823 106.235 60.3005C98.9443 58.9187 92.4094 54.9203 87.8602 49.0574C83.3109 43.1946 81.0609 35.8714 81.5332 28.4656C82.0056 21.0599 85.1679 14.0819 90.4252 8.8446C95.6824 3.60726 102.672 0.471508 110.08 0.0272655C117.487 -0.416977 124.802 1.86091 130.647 6.4324C136.493 11.0039 140.467 17.5539 141.821 24.8501C143.175 32.1463 141.816 39.6859 138 46.0505L177.69 85.7505C182.31 82.9877 187.58 81.4995 192.962 81.4375C198.345 81.3755 203.648 82.742 208.33 85.3976C213.012 88.0532 216.907 91.9029 219.616 96.5544C222.326 101.206 223.753 106.492 223.753 111.875C223.753 117.258 222.326 122.545 219.616 127.197C216.907 131.848 213.012 135.698 208.33 138.353C203.648 141.009 198.345 142.375 192.962 142.313C187.58 142.251 182.31 140.763 177.69 138L138 177.7C141.808 184.071 143.155 191.614 141.79 198.91C140.424 206.205 136.44 212.75 130.585 217.313C124.731 221.875 117.412 224.141 110.004 223.683C102.596 223.226 95.6103 220.077 90.3621 214.828C85.1139 209.58 81.9647 202.595 81.5072 195.187C81.0497 187.779 83.3154 180.459 87.878 174.605C92.4405 168.751 98.9853 164.766 106.281 163.401C113.576 162.035 121.119 163.383 127.49 167.19L167.19 127.49C165.664 124.941 164.518 122.182 163.79 119.3H141.39C139.721 125.858 135.915 131.673 130.573 135.826C125.231 139.98 118.657 142.234 111.89 142.234C105.123 142.234 98.5494 139.98 93.2071 135.826C87.8648 131.673 84.0587 125.858 82.39 119.3H60C58.1878 126.495 53.8086 132.78 47.6863 136.971C41.5641 141.163 34.1211 142.972 26.7579 142.059C19.3947 141.146 12.6191 137.574 7.70605 132.014C2.79302 126.454 0.0813599 119.29 0.0813599 111.87C0.0813599 104.451 2.79302 97.2871 7.70605 91.7272C12.6191 86.1673 19.3947 82.5947 26.7579 81.6817C34.1211 80.7686 41.5641 82.5781 47.6863 86.7696C53.8086 90.9611 58.1878 97.2456 60 104.44H82.35ZM100.86 204.32C103.407 206.868 106.759 208.453 110.345 208.806C113.93 209.159 117.527 208.258 120.522 206.256C123.517 204.254 125.725 201.276 126.771 197.828C127.816 194.38 127.633 190.677 126.253 187.349C124.874 184.021 122.383 181.274 119.205 179.577C116.027 177.88 112.359 177.337 108.826 178.042C105.293 178.746 102.113 180.654 99.8291 183.44C97.5451 186.226 96.2979 189.718 96.3 193.32C96.2985 195.364 96.7006 197.388 97.4831 199.275C98.2656 201.163 99.4132 202.877 100.86 204.32ZM204.32 122.88C206.868 120.333 208.453 116.981 208.806 113.396C209.159 109.811 208.258 106.214 206.256 103.219C204.254 100.223 201.275 98.0151 197.827 96.97C194.38 95.9249 190.676 96.1077 187.348 97.4873C184.02 98.8669 181.274 101.358 179.577 104.536C177.879 107.714 177.337 111.382 178.041 114.915C178.746 118.448 180.653 121.627 183.439 123.911C186.226 126.195 189.717 127.443 193.32 127.44C195.364 127.443 197.388 127.042 199.275 126.259C201.163 125.476 202.878 124.328 204.32 122.88ZM122.88 19.4205C120.333 16.8729 116.981 15.2876 113.395 14.9347C109.81 14.5817 106.213 15.483 103.218 17.4849C100.223 19.4868 98.0146 22.4654 96.9696 25.9131C95.9245 29.3608 96.1073 33.0642 97.4869 36.3922C98.8665 39.7202 101.358 42.4668 104.535 44.1639C107.713 45.861 111.381 46.4036 114.914 45.6992C118.447 44.9949 121.627 43.0871 123.911 40.301C126.195 37.515 127.442 34.0231 127.44 30.4205C127.44 28.3772 127.038 26.3539 126.255 24.4664C125.473 22.5788 124.326 20.8642 122.88 19.4205ZM19.42 100.86C16.8725 103.408 15.2872 106.76 14.9342 110.345C14.5813 113.93 15.4826 117.527 17.4844 120.522C19.4863 123.518 22.4649 125.726 25.9127 126.771C29.3604 127.816 33.0638 127.633 36.3918 126.254C39.7198 124.874 42.4664 122.383 44.1635 119.205C45.8606 116.027 46.4032 112.359 45.6988 108.826C44.9944 105.293 43.0866 102.114 40.3006 99.8296C37.5145 97.5455 34.0227 96.2983 30.42 96.3005C26.2938 96.3018 22.337 97.9421 19.42 100.86ZM100.86 100.86C98.3125 103.408 96.7272 106.76 96.3742 110.345C96.0213 113.93 96.9226 117.527 98.9244 120.522C100.926 123.518 103.905 125.726 107.353 126.771C110.8 127.816 114.504 127.633 117.832 126.254C121.16 124.874 123.906 122.383 125.604 119.205C127.301 116.027 127.843 112.359 127.139 108.826C126.434 105.293 124.527 102.114 121.741 99.8296C118.955 97.5455 115.463 96.2983 111.86 96.3005C109.817 96.299 107.793 96.701 105.905 97.4835C104.018 98.2661 102.303 99.4136 100.86 100.86Z\" fill=\"#00AEEF\"/>\n",
       "    </g>\n",
       "    <defs>\n",
       "        <clipPath id=\"clip0_4338_178347\">\n",
       "            <rect width=\"566.93\" height=\"223.75\" fill=\"white\"/>\n",
       "        </clipPath>\n",
       "    </defs>\n",
       "  </svg>\n",
       "</div>\n",
       "\n",
       "        <table class=\"jp-RenderedHTMLCommon\" style=\"border-collapse: collapse;color: var(--jp-ui-font-color1);font-size: var(--jp-ui-font-size1);\">\n",
       "    <tr>\n",
       "        <td style=\"text-align: left\"><b>Python version:</b></td>\n",
       "        <td style=\"text-align: left\"><b>3.11.11</b></td>\n",
       "    </tr>\n",
       "    <tr>\n",
       "        <td style=\"text-align: left\"><b>Ray version:</b></td>\n",
       "        <td style=\"text-align: left\"><b>2.42.0</b></td>\n",
       "    </tr>\n",
       "    \n",
       "</table>\n",
       "\n",
       "    </div>\n",
       "</div>\n"
      ],
      "text/plain": [
       "RayContext(dashboard_url='', python_version='3.11.11', ray_version='2.42.0', ray_commit='637116a090c052d061af5ba3bef8a467c8c3fc25')"
      ]
     },
     "execution_count": 27,
     "metadata": {},
     "output_type": "execute_result"
    }
   ],
   "source": [
    "ray.init(configure_logging=False)"
   ]
  },
  {
   "attachments": {},
   "cell_type": "markdown",
   "id": "56b0c685",
   "metadata": {},
   "source": [
    "Let's start by defining a simple evaluation function.\n",
    "An explicit math formula is queried here for demonstration, yet in practice this is typically a black-box function-- e.g. the performance results after training an ML model.\n",
    "We artificially sleep for a bit (`0.1` seconds) to simulate a long-running ML experiment.\n",
    "This setup assumes that we're running multiple `step`s of an experiment while tuning three hyperparameters,\n",
    "namely `width`, `height`, and `activation`."
   ]
  },
  {
   "cell_type": "code",
   "execution_count": 28,
   "id": "90a11f98",
   "metadata": {},
   "outputs": [],
   "source": [
    "def evaluate(step, width, height, activation):\n",
    "    time.sleep(0.1)\n",
    "    activation_boost = 10 if activation==\"relu\" else 0\n",
    "    return (0.1 + width * step / 100) ** (-1) + height * 0.1 + activation_boost"
   ]
  },
  {
   "attachments": {},
   "cell_type": "markdown",
   "id": "bc579b83",
   "metadata": {},
   "source": [
    "Next, our `objective` function to be optimized takes a Tune `config`, evaluates the `score` of your experiment in a training loop,\n",
    "and uses `train.report` to report the `score` back to Tune."
   ]
  },
  {
   "cell_type": "code",
   "execution_count": 29,
   "id": "3a11d0e0",
   "metadata": {
    "lines_to_next_cell": 0
   },
   "outputs": [],
   "source": [
    "def objective(config):\n",
    "    for step in range(config[\"steps\"]):\n",
    "        score = evaluate(step, config[\"width\"], config[\"height\"], config[\"activation\"])\n",
    "        train.report({\"iterations\": step, \"mean_loss\": score})"
   ]
  },
  {
   "attachments": {},
   "cell_type": "markdown",
   "id": "c58bd20b",
   "metadata": {},
   "source": [
    "Next we define a search space. The critical assumption is that the optimal hyperparamters live within this space. Yet, if the space is very large, then those hyperparamters may be difficult to find in a short amount of time.\n",
    "\n",
    "The simplest case is a search space with independent dimensions. In this case, a config dictionary will suffice."
   ]
  },
  {
   "cell_type": "code",
   "execution_count": 30,
   "id": "c3e4eecb",
   "metadata": {},
   "outputs": [],
   "source": [
    "search_space = {\n",
    "    \"steps\": 100,\n",
    "    \"width\": tune.uniform(0, 20),\n",
    "    \"height\": tune.uniform(-100, 100),\n",
    "    \"activation\": tune.choice([\"relu\", \"tanh\"]),\n",
    "}"
   ]
  },
  {
   "attachments": {},
   "cell_type": "markdown",
   "id": "ef0c666d",
   "metadata": {},
   "source": [
    "Here we define the Optuna search algorithm:"
   ]
  },
  {
   "cell_type": "code",
   "execution_count": 31,
   "id": "f23cadc8",
   "metadata": {},
   "outputs": [],
   "source": [
    "algo = OptunaSearch()"
   ]
  },
  {
   "attachments": {},
   "cell_type": "markdown",
   "id": "4287fa79",
   "metadata": {},
   "source": [
    "We also constrain the number of concurrent trials to `4` with a `ConcurrencyLimiter`."
   ]
  },
  {
   "cell_type": "code",
   "execution_count": 32,
   "id": "68022ea4",
   "metadata": {},
   "outputs": [],
   "source": [
    "algo = ConcurrencyLimiter(algo, max_concurrent=4)\n"
   ]
  },
  {
   "attachments": {},
   "cell_type": "markdown",
   "id": "4c250f74",
   "metadata": {},
   "source": [
    "The number of samples is the number of hyperparameter combinations that will be tried out. This Tune run is set to `1000` samples.\n",
    "(you can decrease this if it takes too long on your machine)."
   ]
  },
  {
   "cell_type": "code",
   "execution_count": 33,
   "id": "f6c21314",
   "metadata": {},
   "outputs": [],
   "source": [
    "num_samples = 1000"
   ]
  },
  {
   "cell_type": "code",
   "execution_count": 34,
   "id": "9533aabf",
   "metadata": {
    "tags": [
     "remove-cell"
    ]
   },
   "outputs": [],
   "source": [
    "# We override here for our smoke tests.\n",
    "num_samples = 10"
   ]
  },
  {
   "attachments": {},
   "cell_type": "markdown",
   "id": "92942b88",
   "metadata": {},
   "source": [
    "Finally, we run the experiment to `\"min\"`imize the \"mean_loss\" of the `objective` by searching `search_space` via `algo`, `num_samples` times. This previous sentence is fully characterizes the search problem we aim to solve. With this in mind, notice how efficient it is to execute `tuner.fit()`."
   ]
  },
  {
   "cell_type": "code",
   "execution_count": 35,
   "id": "4e224bb2",
   "metadata": {
    "tags": [
     "hide-output"
    ]
   },
   "outputs": [
    {
     "data": {
      "text/html": [
       "<div class=\"tuneStatus\">\n",
       "  <div style=\"display: flex;flex-direction: row\">\n",
       "    <div style=\"display: flex;flex-direction: column;\">\n",
       "      <h3>Tune Status</h3>\n",
       "      <table>\n",
       "<tbody>\n",
       "<tr><td>Current time:</td><td>2025-02-10 17:45:31</td></tr>\n",
       "<tr><td>Running for: </td><td>00:00:34.63        </td></tr>\n",
       "<tr><td>Memory:      </td><td>22.9/36.0 GiB      </td></tr>\n",
       "</tbody>\n",
       "</table>\n",
       "    </div>\n",
       "    <div class=\"vDivider\"></div>\n",
       "    <div class=\"systemInfo\">\n",
       "      <h3>System Info</h3>\n",
       "      Using FIFO scheduling algorithm.<br>Logical resource usage: 1.0/12 CPUs, 0/0 GPUs\n",
       "    </div>\n",
       "    \n",
       "  </div>\n",
       "  <div class=\"hDivider\"></div>\n",
       "  <div class=\"trialStatus\">\n",
       "    <h3>Trial Status</h3>\n",
       "    <table>\n",
       "<thead>\n",
       "<tr><th>Trial name        </th><th>status    </th><th>loc            </th><th>activation  </th><th style=\"text-align: right;\">  height</th><th style=\"text-align: right;\">    width</th><th style=\"text-align: right;\">    loss</th><th style=\"text-align: right;\">  iter</th><th style=\"text-align: right;\">  total time (s)</th><th style=\"text-align: right;\">  iterations</th></tr>\n",
       "</thead>\n",
       "<tbody>\n",
       "<tr><td>objective_544aba7a</td><td>TERMINATED</td><td>127.0.0.1:31400</td><td>relu        </td><td style=\"text-align: right;\">-42.7554</td><td style=\"text-align: right;\">12.6423  </td><td style=\"text-align: right;\"> 5.80372</td><td style=\"text-align: right;\">   100</td><td style=\"text-align: right;\">         10.367 </td><td style=\"text-align: right;\">          99</td></tr>\n",
       "<tr><td>objective_db9abc7e</td><td>TERMINATED</td><td>127.0.0.1:31404</td><td>relu        </td><td style=\"text-align: right;\">-77.315 </td><td style=\"text-align: right;\">13.2781  </td><td style=\"text-align: right;\"> 2.344  </td><td style=\"text-align: right;\">   100</td><td style=\"text-align: right;\">         10.3672</td><td style=\"text-align: right;\">          99</td></tr>\n",
       "<tr><td>objective_af038680</td><td>TERMINATED</td><td>127.0.0.1:31409</td><td>relu        </td><td style=\"text-align: right;\">-63.4713</td><td style=\"text-align: right;\">10.1164  </td><td style=\"text-align: right;\"> 3.75173</td><td style=\"text-align: right;\">   100</td><td style=\"text-align: right;\">         10.37  </td><td style=\"text-align: right;\">          99</td></tr>\n",
       "<tr><td>objective_798db8ea</td><td>TERMINATED</td><td>127.0.0.1:31410</td><td>tanh        </td><td style=\"text-align: right;\">-37.4417</td><td style=\"text-align: right;\"> 6.06847 </td><td style=\"text-align: right;\">-3.58045</td><td style=\"text-align: right;\">   100</td><td style=\"text-align: right;\">         10.3555</td><td style=\"text-align: right;\">          99</td></tr>\n",
       "<tr><td>objective_12f9e6c4</td><td>TERMINATED</td><td>127.0.0.1:31448</td><td>relu        </td><td style=\"text-align: right;\">-68.7348</td><td style=\"text-align: right;\"> 2.80531 </td><td style=\"text-align: right;\"> 3.47407</td><td style=\"text-align: right;\">   100</td><td style=\"text-align: right;\">         10.3807</td><td style=\"text-align: right;\">          99</td></tr>\n",
       "<tr><td>objective_17ddef3b</td><td>TERMINATED</td><td>127.0.0.1:31453</td><td>tanh        </td><td style=\"text-align: right;\"> 57.015 </td><td style=\"text-align: right;\">19.7984  </td><td style=\"text-align: right;\"> 5.75226</td><td style=\"text-align: right;\">   100</td><td style=\"text-align: right;\">         10.3681</td><td style=\"text-align: right;\">          99</td></tr>\n",
       "<tr><td>objective_33ba808f</td><td>TERMINATED</td><td>127.0.0.1:31454</td><td>tanh        </td><td style=\"text-align: right;\">-33.8102</td><td style=\"text-align: right;\">13.6808  </td><td style=\"text-align: right;\">-3.30772</td><td style=\"text-align: right;\">   100</td><td style=\"text-align: right;\">         10.3772</td><td style=\"text-align: right;\">          99</td></tr>\n",
       "<tr><td>objective_b96659fb</td><td>TERMINATED</td><td>127.0.0.1:31455</td><td>relu        </td><td style=\"text-align: right;\">-34.4995</td><td style=\"text-align: right;\">12.1049  </td><td style=\"text-align: right;\"> 6.6328 </td><td style=\"text-align: right;\">   100</td><td style=\"text-align: right;\">         10.364 </td><td style=\"text-align: right;\">          99</td></tr>\n",
       "<tr><td>objective_11926efb</td><td>TERMINATED</td><td>127.0.0.1:31493</td><td>relu        </td><td style=\"text-align: right;\">-77.0446</td><td style=\"text-align: right;\"> 0.695822</td><td style=\"text-align: right;\"> 3.56319</td><td style=\"text-align: right;\">   100</td><td style=\"text-align: right;\">         10.3879</td><td style=\"text-align: right;\">          99</td></tr>\n",
       "<tr><td>objective_dbaec664</td><td>TERMINATED</td><td>127.0.0.1:31495</td><td>relu        </td><td style=\"text-align: right;\"> 37.981 </td><td style=\"text-align: right;\"> 2.35066 </td><td style=\"text-align: right;\">14.2101 </td><td style=\"text-align: right;\">   100</td><td style=\"text-align: right;\">         10.3705</td><td style=\"text-align: right;\">          99</td></tr>\n",
       "</tbody>\n",
       "</table>\n",
       "  </div>\n",
       "</div>\n",
       "<style>\n",
       ".tuneStatus {\n",
       "  color: var(--jp-ui-font-color1);\n",
       "}\n",
       ".tuneStatus .systemInfo {\n",
       "  display: flex;\n",
       "  flex-direction: column;\n",
       "}\n",
       ".tuneStatus td {\n",
       "  white-space: nowrap;\n",
       "}\n",
       ".tuneStatus .trialStatus {\n",
       "  display: flex;\n",
       "  flex-direction: column;\n",
       "}\n",
       ".tuneStatus h3 {\n",
       "  font-weight: bold;\n",
       "}\n",
       ".tuneStatus .hDivider {\n",
       "  border-bottom-width: var(--jp-border-width);\n",
       "  border-bottom-color: var(--jp-border-color0);\n",
       "  border-bottom-style: solid;\n",
       "}\n",
       ".tuneStatus .vDivider {\n",
       "  border-left-width: var(--jp-border-width);\n",
       "  border-left-color: var(--jp-border-color0);\n",
       "  border-left-style: solid;\n",
       "  margin: 0.5em 1em 0.5em 1em;\n",
       "}\n",
       "</style>\n"
      ],
      "text/plain": [
       "<IPython.core.display.HTML object>"
      ]
     },
     "metadata": {},
     "output_type": "display_data"
    }
   ],
   "source": [
    "tuner = tune.Tuner(\n",
    "    objective,\n",
    "    tune_config=tune.TuneConfig(\n",
    "        metric=\"mean_loss\",\n",
    "        mode=\"min\",\n",
    "        search_alg=algo,\n",
    "        num_samples=num_samples,\n",
    "    ),\n",
    "    param_space=search_space,\n",
    ")\n",
    "results = tuner.fit()"
   ]
  },
  {
   "attachments": {},
   "cell_type": "markdown",
   "id": "b66aab6a",
   "metadata": {},
   "source": [
    "And now we have the hyperparameters found to minimize the mean loss."
   ]
  },
  {
   "cell_type": "code",
   "execution_count": 36,
   "id": "e69db02e",
   "metadata": {},
   "outputs": [
    {
     "name": "stdout",
     "output_type": "stream",
     "text": [
      "Best hyperparameters found were:  {'steps': 100, 'width': 6.068472626831378, 'height': -37.441714802641776, 'activation': 'tanh'}\n"
     ]
    }
   ],
   "source": [
    "print(\"Best hyperparameters found were: \", results.get_best_result().config)"
   ]
  },
  {
   "attachments": {},
   "cell_type": "markdown",
   "id": "d545d30b",
   "metadata": {},
   "source": [
    "## Providing an initial set of hyperparameters\n",
    "\n",
    "While defining the search algorithm, we may choose to provide an initial set of hyperparameters that we believe are especially promising or informative, and\n",
    "pass this information as a helpful starting point for the `OptunaSearch` object."
   ]
  },
  {
   "cell_type": "code",
   "execution_count": 37,
   "id": "7596b7f4",
   "metadata": {},
   "outputs": [],
   "source": [
    "initial_params = [\n",
    "    {\"width\": 1, \"height\": 2, \"activation\": \"relu\"},\n",
    "    {\"width\": 4, \"height\": 2, \"activation\": \"relu\"},\n",
    "]"
   ]
  },
  {
   "attachments": {},
   "cell_type": "markdown",
   "id": "f84bbff0",
   "metadata": {},
   "source": [
    "Now the `search_alg` built using `OptunaSearch` takes `points_to_evaluate`."
   ]
  },
  {
   "cell_type": "code",
   "execution_count": 38,
   "id": "320d1935",
   "metadata": {
    "lines_to_next_cell": 0
   },
   "outputs": [],
   "source": [
    "searcher = OptunaSearch(points_to_evaluate=initial_params)\n",
    "algo = ConcurrencyLimiter(searcher, max_concurrent=4)"
   ]
  },
  {
   "attachments": {},
   "cell_type": "markdown",
   "id": "9147d9a2",
   "metadata": {},
   "source": [
    "And run the experiment with initial hyperparameter evaluations:"
   ]
  },
  {
   "cell_type": "code",
   "execution_count": 39,
   "id": "ee442efd",
   "metadata": {
    "tags": [
     "hide-output"
    ]
   },
   "outputs": [
    {
     "data": {
      "text/html": [
       "<div class=\"tuneStatus\">\n",
       "  <div style=\"display: flex;flex-direction: row\">\n",
       "    <div style=\"display: flex;flex-direction: column;\">\n",
       "      <h3>Tune Status</h3>\n",
       "      <table>\n",
       "<tbody>\n",
       "<tr><td>Current time:</td><td>2025-02-10 17:46:06</td></tr>\n",
       "<tr><td>Running for: </td><td>00:00:34.64        </td></tr>\n",
       "<tr><td>Memory:      </td><td>22.9/36.0 GiB      </td></tr>\n",
       "</tbody>\n",
       "</table>\n",
       "    </div>\n",
       "    <div class=\"vDivider\"></div>\n",
       "    <div class=\"systemInfo\">\n",
       "      <h3>System Info</h3>\n",
       "      Using FIFO scheduling algorithm.<br>Logical resource usage: 1.0/12 CPUs, 0/0 GPUs\n",
       "    </div>\n",
       "    \n",
       "  </div>\n",
       "  <div class=\"hDivider\"></div>\n",
       "  <div class=\"trialStatus\">\n",
       "    <h3>Trial Status</h3>\n",
       "    <table>\n",
       "<thead>\n",
       "<tr><th>Trial name        </th><th>status    </th><th>loc            </th><th>activation  </th><th style=\"text-align: right;\">  height</th><th style=\"text-align: right;\">    width</th><th style=\"text-align: right;\">     loss</th><th style=\"text-align: right;\">  iter</th><th style=\"text-align: right;\">  total time (s)</th><th style=\"text-align: right;\">  iterations</th></tr>\n",
       "</thead>\n",
       "<tbody>\n",
       "<tr><td>objective_b9f8a6a0</td><td>TERMINATED</td><td>127.0.0.1:31540</td><td>relu        </td><td style=\"text-align: right;\">  2     </td><td style=\"text-align: right;\"> 1       </td><td style=\"text-align: right;\">11.1174  </td><td style=\"text-align: right;\">   100</td><td style=\"text-align: right;\">         10.3654</td><td style=\"text-align: right;\">          99</td></tr>\n",
       "<tr><td>objective_3fc2abd5</td><td>TERMINATED</td><td>127.0.0.1:31543</td><td>relu        </td><td style=\"text-align: right;\">  2     </td><td style=\"text-align: right;\"> 4       </td><td style=\"text-align: right;\">10.4463  </td><td style=\"text-align: right;\">   100</td><td style=\"text-align: right;\">         10.3617</td><td style=\"text-align: right;\">          99</td></tr>\n",
       "<tr><td>objective_29c19d94</td><td>TERMINATED</td><td>127.0.0.1:31545</td><td>tanh        </td><td style=\"text-align: right;\"> 71.7813</td><td style=\"text-align: right;\"> 2.03557 </td><td style=\"text-align: right;\"> 7.65089 </td><td style=\"text-align: right;\">   100</td><td style=\"text-align: right;\">         10.3843</td><td style=\"text-align: right;\">          99</td></tr>\n",
       "<tr><td>objective_a5065a14</td><td>TERMINATED</td><td>127.0.0.1:31550</td><td>tanh        </td><td style=\"text-align: right;\">-51.5339</td><td style=\"text-align: right;\">18.0062  </td><td style=\"text-align: right;\">-5.0976  </td><td style=\"text-align: right;\">   100</td><td style=\"text-align: right;\">         10.3504</td><td style=\"text-align: right;\">          99</td></tr>\n",
       "<tr><td>objective_bec81df3</td><td>TERMINATED</td><td>127.0.0.1:31587</td><td>relu        </td><td style=\"text-align: right;\">-39.0018</td><td style=\"text-align: right;\"> 8.78395 </td><td style=\"text-align: right;\"> 6.21351 </td><td style=\"text-align: right;\">   100</td><td style=\"text-align: right;\">         10.3635</td><td style=\"text-align: right;\">          99</td></tr>\n",
       "<tr><td>objective_904cc269</td><td>TERMINATED</td><td>127.0.0.1:31588</td><td>tanh        </td><td style=\"text-align: right;\"> 99.7507</td><td style=\"text-align: right;\"> 0.797149</td><td style=\"text-align: right;\">11.0997  </td><td style=\"text-align: right;\">   100</td><td style=\"text-align: right;\">         10.3975</td><td style=\"text-align: right;\">          99</td></tr>\n",
       "<tr><td>objective_c81756cf</td><td>TERMINATED</td><td>127.0.0.1:31594</td><td>tanh        </td><td style=\"text-align: right;\"> 38.4471</td><td style=\"text-align: right;\">17.8148  </td><td style=\"text-align: right;\"> 3.90109 </td><td style=\"text-align: right;\">   100</td><td style=\"text-align: right;\">         10.3708</td><td style=\"text-align: right;\">          99</td></tr>\n",
       "<tr><td>objective_35b36c31</td><td>TERMINATED</td><td>127.0.0.1:31595</td><td>relu        </td><td style=\"text-align: right;\"> 50.5924</td><td style=\"text-align: right;\"> 6.24573 </td><td style=\"text-align: right;\">15.2184  </td><td style=\"text-align: right;\">   100</td><td style=\"text-align: right;\">         10.4138</td><td style=\"text-align: right;\">          99</td></tr>\n",
       "<tr><td>objective_ebe76172</td><td>TERMINATED</td><td>127.0.0.1:31624</td><td>relu        </td><td style=\"text-align: right;\">-96.2317</td><td style=\"text-align: right;\">15.5102  </td><td style=\"text-align: right;\"> 0.441538</td><td style=\"text-align: right;\">   100</td><td style=\"text-align: right;\">         10.3683</td><td style=\"text-align: right;\">          99</td></tr>\n",
       "<tr><td>objective_d86f0cda</td><td>TERMINATED</td><td>127.0.0.1:31629</td><td>tanh        </td><td style=\"text-align: right;\"> 12.3312</td><td style=\"text-align: right;\"> 2.72317 </td><td style=\"text-align: right;\"> 1.59078 </td><td style=\"text-align: right;\">   100</td><td style=\"text-align: right;\">         10.3694</td><td style=\"text-align: right;\">          99</td></tr>\n",
       "</tbody>\n",
       "</table>\n",
       "  </div>\n",
       "</div>\n",
       "<style>\n",
       ".tuneStatus {\n",
       "  color: var(--jp-ui-font-color1);\n",
       "}\n",
       ".tuneStatus .systemInfo {\n",
       "  display: flex;\n",
       "  flex-direction: column;\n",
       "}\n",
       ".tuneStatus td {\n",
       "  white-space: nowrap;\n",
       "}\n",
       ".tuneStatus .trialStatus {\n",
       "  display: flex;\n",
       "  flex-direction: column;\n",
       "}\n",
       ".tuneStatus h3 {\n",
       "  font-weight: bold;\n",
       "}\n",
       ".tuneStatus .hDivider {\n",
       "  border-bottom-width: var(--jp-border-width);\n",
       "  border-bottom-color: var(--jp-border-color0);\n",
       "  border-bottom-style: solid;\n",
       "}\n",
       ".tuneStatus .vDivider {\n",
       "  border-left-width: var(--jp-border-width);\n",
       "  border-left-color: var(--jp-border-color0);\n",
       "  border-left-style: solid;\n",
       "  margin: 0.5em 1em 0.5em 1em;\n",
       "}\n",
       "</style>\n"
      ],
      "text/plain": [
       "<IPython.core.display.HTML object>"
      ]
     },
     "metadata": {},
     "output_type": "display_data"
    }
   ],
   "source": [
    "tuner = tune.Tuner(\n",
    "    objective,\n",
    "    tune_config=tune.TuneConfig(\n",
    "        metric=\"mean_loss\",\n",
    "        mode=\"min\",\n",
    "        search_alg=algo,\n",
    "        num_samples=num_samples,\n",
    "    ),\n",
    "    param_space=search_space,\n",
    ")\n",
    "results = tuner.fit()"
   ]
  },
  {
   "attachments": {},
   "cell_type": "markdown",
   "id": "ccfe15e2",
   "metadata": {},
   "source": [
    "We take another look at the optimal hyperparamters."
   ]
  },
  {
   "cell_type": "code",
   "execution_count": 40,
   "id": "fcfa0c2e",
   "metadata": {},
   "outputs": [
    {
     "name": "stdout",
     "output_type": "stream",
     "text": [
      "Best hyperparameters found were:  {'steps': 100, 'width': 18.006187188045047, 'height': -51.53387516536645, 'activation': 'tanh'}\n"
     ]
    }
   ],
   "source": [
    "print(\"Best hyperparameters found were: \", results.get_best_result().config)"
   ]
  },
  {
   "attachments": {},
   "cell_type": "markdown",
   "id": "88080576",
   "metadata": {},
   "source": [
    "## Conditional search spaces \n",
    "\n",
    "Sometimes we may want to build a more complicated search space that has conditional dependencies on other hyperparameters. In this case, we pass a define-by-run function to the `search_alg` argument in `ray.tune()`."
   ]
  },
  {
   "cell_type": "code",
   "execution_count": 41,
   "id": "f0acc2fc",
   "metadata": {
    "lines_to_next_cell": 0
   },
   "outputs": [],
   "source": [
    "def define_by_run_func(trial) -> Optional[Dict[str, Any]]:\n",
    "    \"\"\"Define-by-run function to construct a conditional search space.\n",
    "\n",
    "    Ensure no actual computation takes place here. That should go into\n",
    "    the trainable passed to ``Tuner()`` (in this example, that's\n",
    "    ``objective``).\n",
    "\n",
    "    For more information, see https://optuna.readthedocs.io/en/stable\\\n",
    "    /tutorial/10_key_features/002_configurations.html\n",
    "\n",
    "    Args:\n",
    "        trial: Optuna Trial object\n",
    "        \n",
    "    Returns:\n",
    "        Dict containing constant parameters or None\n",
    "    \"\"\"\n",
    "\n",
    "    activation = trial.suggest_categorical(\"activation\", [\"relu\", \"tanh\"])\n",
    "\n",
    "    # Define-by-run allows for conditional search spaces.\n",
    "    if activation == \"relu\":\n",
    "        trial.suggest_float(\"width\", 0, 20)\n",
    "        trial.suggest_float(\"height\", -100, 100)\n",
    "    else:\n",
    "        trial.suggest_float(\"width\", -1, 21)\n",
    "        trial.suggest_float(\"height\", -101, 101)\n",
    "        \n",
    "    # Return all constants in a dictionary.\n",
    "    return {\"steps\": 100}"
   ]
  },
  {
   "attachments": {},
   "cell_type": "markdown",
   "id": "4c9d0945",
   "metadata": {},
   "source": [
    "As before, we create the `search_alg` from `OptunaSearch` and `ConcurrencyLimiter`, this time we define the scope of search via the `space` argument and provide no initialization. We also must specific metric and mode when using `space`. "
   ]
  },
  {
   "cell_type": "code",
   "execution_count": 42,
   "id": "906f9ffc",
   "metadata": {},
   "outputs": [
    {
     "name": "stderr",
     "output_type": "stream",
     "text": [
      "[I 2025-02-10 17:46:06,676] A new study created in memory with name: optuna\n"
     ]
    }
   ],
   "source": [
    "searcher = OptunaSearch(space=define_by_run_func, metric=\"mean_loss\", mode=\"min\")\n",
    "algo = ConcurrencyLimiter(searcher, max_concurrent=4)"
   ]
  },
  {
   "attachments": {},
   "cell_type": "markdown",
   "id": "fea9399c",
   "metadata": {},
   "source": [
    "Running the experiment with a define-by-run search space:"
   ]
  },
  {
   "cell_type": "code",
   "execution_count": 43,
   "id": "bf0ee932",
   "metadata": {
    "tags": [
     "hide-output"
    ]
   },
   "outputs": [
    {
     "data": {
      "text/html": [
       "<div class=\"tuneStatus\">\n",
       "  <div style=\"display: flex;flex-direction: row\">\n",
       "    <div style=\"display: flex;flex-direction: column;\">\n",
       "      <h3>Tune Status</h3>\n",
       "      <table>\n",
       "<tbody>\n",
       "<tr><td>Current time:</td><td>2025-02-10 17:46:41</td></tr>\n",
       "<tr><td>Running for: </td><td>00:00:34.65        </td></tr>\n",
       "<tr><td>Memory:      </td><td>22.9/36.0 GiB      </td></tr>\n",
       "</tbody>\n",
       "</table>\n",
       "    </div>\n",
       "    <div class=\"vDivider\"></div>\n",
       "    <div class=\"systemInfo\">\n",
       "      <h3>System Info</h3>\n",
       "      Using FIFO scheduling algorithm.<br>Logical resource usage: 1.0/12 CPUs, 0/0 GPUs\n",
       "    </div>\n",
       "    \n",
       "  </div>\n",
       "  <div class=\"hDivider\"></div>\n",
       "  <div class=\"trialStatus\">\n",
       "    <h3>Trial Status</h3>\n",
       "    <table>\n",
       "<thead>\n",
       "<tr><th>Trial name        </th><th>status    </th><th>loc            </th><th>activation  </th><th style=\"text-align: right;\">  height</th><th style=\"text-align: right;\">  steps</th><th style=\"text-align: right;\">    width</th><th style=\"text-align: right;\">    loss</th><th style=\"text-align: right;\">  iter</th><th style=\"text-align: right;\">  total time (s)</th><th style=\"text-align: right;\">  iterations</th></tr>\n",
       "</thead>\n",
       "<tbody>\n",
       "<tr><td>objective_d634a0d4</td><td>TERMINATED</td><td>127.0.0.1:31667</td><td>relu        </td><td style=\"text-align: right;\"> 17.3238</td><td style=\"text-align: right;\">    100</td><td style=\"text-align: right;\"> 4.43649 </td><td style=\"text-align: right;\">11.955  </td><td style=\"text-align: right;\">   100</td><td style=\"text-align: right;\">         10.36  </td><td style=\"text-align: right;\">          99</td></tr>\n",
       "<tr><td>objective_ce9556fb</td><td>TERMINATED</td><td>127.0.0.1:31672</td><td>relu        </td><td style=\"text-align: right;\"> 45.4128</td><td style=\"text-align: right;\">    100</td><td style=\"text-align: right;\"> 3.26818 </td><td style=\"text-align: right;\">14.8411 </td><td style=\"text-align: right;\">   100</td><td style=\"text-align: right;\">         10.3897</td><td style=\"text-align: right;\">          99</td></tr>\n",
       "<tr><td>objective_50a53c51</td><td>TERMINATED</td><td>127.0.0.1:31673</td><td>relu        </td><td style=\"text-align: right;\"> 30.8963</td><td style=\"text-align: right;\">    100</td><td style=\"text-align: right;\">11.7827  </td><td style=\"text-align: right;\">13.1746 </td><td style=\"text-align: right;\">   100</td><td style=\"text-align: right;\">         10.3682</td><td style=\"text-align: right;\">          99</td></tr>\n",
       "<tr><td>objective_d8cdb94f</td><td>TERMINATED</td><td>127.0.0.1:31676</td><td>tanh        </td><td style=\"text-align: right;\">-50.8839</td><td style=\"text-align: right;\">    100</td><td style=\"text-align: right;\">14.7686  </td><td style=\"text-align: right;\">-5.02046</td><td style=\"text-align: right;\">   100</td><td style=\"text-align: right;\">         10.3565</td><td style=\"text-align: right;\">          99</td></tr>\n",
       "<tr><td>objective_5bb207f2</td><td>TERMINATED</td><td>127.0.0.1:31707</td><td>tanh        </td><td style=\"text-align: right;\"> 54.7572</td><td style=\"text-align: right;\">    100</td><td style=\"text-align: right;\">-0.656712</td><td style=\"text-align: right;\"> 3.65802</td><td style=\"text-align: right;\">   100</td><td style=\"text-align: right;\">         10.3645</td><td style=\"text-align: right;\">          99</td></tr>\n",
       "<tr><td>objective_a98093fd</td><td>TERMINATED</td><td>127.0.0.1:31709</td><td>tanh        </td><td style=\"text-align: right;\"> 63.0637</td><td style=\"text-align: right;\">    100</td><td style=\"text-align: right;\">20.3183  </td><td style=\"text-align: right;\"> 6.35584</td><td style=\"text-align: right;\">   100</td><td style=\"text-align: right;\">         10.3749</td><td style=\"text-align: right;\">          99</td></tr>\n",
       "<tr><td>objective_ac2aed1c</td><td>TERMINATED</td><td>127.0.0.1:31710</td><td>relu        </td><td style=\"text-align: right;\">-24.0322</td><td style=\"text-align: right;\">    100</td><td style=\"text-align: right;\"> 3.34042 </td><td style=\"text-align: right;\"> 7.89029</td><td style=\"text-align: right;\">   100</td><td style=\"text-align: right;\">         10.3762</td><td style=\"text-align: right;\">          99</td></tr>\n",
       "<tr><td>objective_33b9a9dd</td><td>TERMINATED</td><td>127.0.0.1:31715</td><td>tanh        </td><td style=\"text-align: right;\">100.108 </td><td style=\"text-align: right;\">    100</td><td style=\"text-align: right;\">13.5039  </td><td style=\"text-align: right;\">10.085  </td><td style=\"text-align: right;\">   100</td><td style=\"text-align: right;\">         10.3544</td><td style=\"text-align: right;\">          99</td></tr>\n",
       "<tr><td>objective_0f617dd1</td><td>TERMINATED</td><td>127.0.0.1:31744</td><td>relu        </td><td style=\"text-align: right;\">-27.5246</td><td style=\"text-align: right;\">    100</td><td style=\"text-align: right;\"> 7.83544 </td><td style=\"text-align: right;\"> 7.37481</td><td style=\"text-align: right;\">   100</td><td style=\"text-align: right;\">         10.3685</td><td style=\"text-align: right;\">          99</td></tr>\n",
       "<tr><td>objective_52a7e5c4</td><td>TERMINATED</td><td>127.0.0.1:31745</td><td>tanh        </td><td style=\"text-align: right;\">-69.5895</td><td style=\"text-align: right;\">    100</td><td style=\"text-align: right;\"> 8.5329  </td><td style=\"text-align: right;\">-6.84196</td><td style=\"text-align: right;\">   100</td><td style=\"text-align: right;\">         10.3724</td><td style=\"text-align: right;\">          99</td></tr>\n",
       "</tbody>\n",
       "</table>\n",
       "  </div>\n",
       "</div>\n",
       "<style>\n",
       ".tuneStatus {\n",
       "  color: var(--jp-ui-font-color1);\n",
       "}\n",
       ".tuneStatus .systemInfo {\n",
       "  display: flex;\n",
       "  flex-direction: column;\n",
       "}\n",
       ".tuneStatus td {\n",
       "  white-space: nowrap;\n",
       "}\n",
       ".tuneStatus .trialStatus {\n",
       "  display: flex;\n",
       "  flex-direction: column;\n",
       "}\n",
       ".tuneStatus h3 {\n",
       "  font-weight: bold;\n",
       "}\n",
       ".tuneStatus .hDivider {\n",
       "  border-bottom-width: var(--jp-border-width);\n",
       "  border-bottom-color: var(--jp-border-color0);\n",
       "  border-bottom-style: solid;\n",
       "}\n",
       ".tuneStatus .vDivider {\n",
       "  border-left-width: var(--jp-border-width);\n",
       "  border-left-color: var(--jp-border-color0);\n",
       "  border-left-style: solid;\n",
       "  margin: 0.5em 1em 0.5em 1em;\n",
       "}\n",
       "</style>\n"
      ],
      "text/plain": [
       "<IPython.core.display.HTML object>"
      ]
     },
     "metadata": {},
     "output_type": "display_data"
    }
   ],
   "source": [
    "tuner = tune.Tuner(\n",
    "    objective,\n",
    "    tune_config=tune.TuneConfig(\n",
    "        search_alg=algo,\n",
    "        num_samples=num_samples,\n",
    "    ),\n",
    ")\n",
    "results = tuner.fit()"
   ]
  },
  {
   "attachments": {},
   "cell_type": "markdown",
   "id": "11e1ee04",
   "metadata": {},
   "source": [
    "We take a look again at the optimal hyperparameters."
   ]
  },
  {
   "cell_type": "code",
   "execution_count": 44,
   "id": "13e4ce18",
   "metadata": {
    "lines_to_next_cell": 0
   },
   "outputs": [
    {
     "name": "stdout",
     "output_type": "stream",
     "text": [
      "Best hyperparameters for loss found were:  {'activation': 'tanh', 'width': 8.532901842252825, 'height': -69.58953122602017, 'steps': 100}\n"
     ]
    }
   ],
   "source": [
    "print(\"Best hyperparameters for loss found were: \", results.get_best_result(\"mean_loss\", \"min\").config)"
   ]
  },
  {
   "attachments": {},
   "cell_type": "markdown",
   "id": "34bbd066",
   "metadata": {},
   "source": [
    "## Multi-objective optimization\n",
    "\n",
    "Finally, let's take a look at the multi-objective case. This permits us to optimize multiple metrics at once, and organize our results based on the different objectives."
   ]
  },
  {
   "cell_type": "code",
   "execution_count": 45,
   "id": "b233cbea",
   "metadata": {},
   "outputs": [],
   "source": [
    "def multi_objective(config):\n",
    "    # Hyperparameters\n",
    "    width, height = config[\"width\"], config[\"height\"]\n",
    "\n",
    "    for step in range(config[\"steps\"]):\n",
    "        # Iterative training function - can be any arbitrary training procedure\n",
    "        intermediate_score = evaluate(step, config[\"width\"], config[\"height\"], config[\"activation\"])\n",
    "        # Feed the score back back to Tune.\n",
    "        train.report({\n",
    "           \"iterations\": step, \"loss\": intermediate_score, \"gain\": intermediate_score * width\n",
    "        })"
   ]
  },
  {
   "attachments": {},
   "cell_type": "markdown",
   "id": "338e5108",
   "metadata": {},
   "source": [
    "We define the `OptunaSearch` object this time with metric and mode as list arguments."
   ]
  },
  {
   "cell_type": "code",
   "execution_count": 46,
   "id": "624d0bc8",
   "metadata": {
    "tags": [
     "hide-output"
    ]
   },
   "outputs": [
    {
     "data": {
      "text/html": [
       "<div class=\"tuneStatus\">\n",
       "  <div style=\"display: flex;flex-direction: row\">\n",
       "    <div style=\"display: flex;flex-direction: column;\">\n",
       "      <h3>Tune Status</h3>\n",
       "      <table>\n",
       "<tbody>\n",
       "<tr><td>Current time:</td><td>2025-02-10 17:47:16</td></tr>\n",
       "<tr><td>Running for: </td><td>00:00:34.83        </td></tr>\n",
       "<tr><td>Memory:      </td><td>23.0/36.0 GiB      </td></tr>\n",
       "</tbody>\n",
       "</table>\n",
       "    </div>\n",
       "    <div class=\"vDivider\"></div>\n",
       "    <div class=\"systemInfo\">\n",
       "      <h3>System Info</h3>\n",
       "      Using FIFO scheduling algorithm.<br>Logical resource usage: 1.0/12 CPUs, 0/0 GPUs\n",
       "    </div>\n",
       "    \n",
       "  </div>\n",
       "  <div class=\"hDivider\"></div>\n",
       "  <div class=\"trialStatus\">\n",
       "    <h3>Trial Status</h3>\n",
       "    <table>\n",
       "<thead>\n",
       "<tr><th>Trial name              </th><th>status    </th><th>loc            </th><th>activation  </th><th style=\"text-align: right;\">   height</th><th style=\"text-align: right;\">   width</th><th style=\"text-align: right;\">  iter</th><th style=\"text-align: right;\">  total time (s)</th><th style=\"text-align: right;\">  iterations</th><th style=\"text-align: right;\">     loss</th><th style=\"text-align: right;\">      gain</th></tr>\n",
       "</thead>\n",
       "<tbody>\n",
       "<tr><td>multi_objective_b1c03b0e</td><td>TERMINATED</td><td>127.0.0.1:31784</td><td>relu        </td><td style=\"text-align: right;\">29.8096  </td><td style=\"text-align: right;\">11.6196 </td><td style=\"text-align: right;\">   100</td><td style=\"text-align: right;\">         10.4149</td><td style=\"text-align: right;\">          99</td><td style=\"text-align: right;\">13.0671  </td><td style=\"text-align: right;\">151.835   </td></tr>\n",
       "<tr><td>multi_objective_2f4382a7</td><td>TERMINATED</td><td>127.0.0.1:31785</td><td>tanh        </td><td style=\"text-align: right;\">10.2752  </td><td style=\"text-align: right;\">10.2487 </td><td style=\"text-align: right;\">   100</td><td style=\"text-align: right;\">         10.376 </td><td style=\"text-align: right;\">          99</td><td style=\"text-align: right;\"> 1.12512 </td><td style=\"text-align: right;\"> 11.531   </td></tr>\n",
       "<tr><td>multi_objective_95f3a70b</td><td>TERMINATED</td><td>127.0.0.1:31790</td><td>tanh        </td><td style=\"text-align: right;\">44.948   </td><td style=\"text-align: right;\">19.9084 </td><td style=\"text-align: right;\">   100</td><td style=\"text-align: right;\">         10.3641</td><td style=\"text-align: right;\">          99</td><td style=\"text-align: right;\"> 4.54528 </td><td style=\"text-align: right;\"> 90.4891  </td></tr>\n",
       "<tr><td>multi_objective_259cdc45</td><td>TERMINATED</td><td>127.0.0.1:31796</td><td>relu        </td><td style=\"text-align: right;\">36.6234  </td><td style=\"text-align: right;\">17.6139 </td><td style=\"text-align: right;\">   100</td><td style=\"text-align: right;\">         10.3703</td><td style=\"text-align: right;\">          99</td><td style=\"text-align: right;\">13.7194  </td><td style=\"text-align: right;\">241.651   </td></tr>\n",
       "<tr><td>multi_objective_82b9829a</td><td>TERMINATED</td><td>127.0.0.1:31824</td><td>relu        </td><td style=\"text-align: right;\">19.7113  </td><td style=\"text-align: right;\">17.2626 </td><td style=\"text-align: right;\">   100</td><td style=\"text-align: right;\">         10.3784</td><td style=\"text-align: right;\">          99</td><td style=\"text-align: right;\">12.0293  </td><td style=\"text-align: right;\">207.657   </td></tr>\n",
       "<tr><td>multi_objective_52f99c75</td><td>TERMINATED</td><td>127.0.0.1:31831</td><td>relu        </td><td style=\"text-align: right;\">-3.09785 </td><td style=\"text-align: right;\">11.0507 </td><td style=\"text-align: right;\">   100</td><td style=\"text-align: right;\">         10.3541</td><td style=\"text-align: right;\">          99</td><td style=\"text-align: right;\"> 9.78079 </td><td style=\"text-align: right;\">108.085   </td></tr>\n",
       "<tr><td>multi_objective_0b708ed0</td><td>TERMINATED</td><td>127.0.0.1:31832</td><td>relu        </td><td style=\"text-align: right;\">82.8657  </td><td style=\"text-align: right;\">16.5002 </td><td style=\"text-align: right;\">   100</td><td style=\"text-align: right;\">         10.3781</td><td style=\"text-align: right;\">          99</td><td style=\"text-align: right;\">18.3474  </td><td style=\"text-align: right;\">302.737   </td></tr>\n",
       "<tr><td>multi_objective_b6fae108</td><td>TERMINATED</td><td>127.0.0.1:31833</td><td>tanh        </td><td style=\"text-align: right;\">-0.184224</td><td style=\"text-align: right;\"> 7.47016</td><td style=\"text-align: right;\">   100</td><td style=\"text-align: right;\">         10.3678</td><td style=\"text-align: right;\">          99</td><td style=\"text-align: right;\"> 0.114992</td><td style=\"text-align: right;\">  0.859007</td></tr>\n",
       "<tr><td>multi_objective_b69d0ea1</td><td>TERMINATED</td><td>127.0.0.1:31866</td><td>tanh        </td><td style=\"text-align: right;\">65.6069  </td><td style=\"text-align: right;\"> 8.86956</td><td style=\"text-align: right;\">   100</td><td style=\"text-align: right;\">         10.3658</td><td style=\"text-align: right;\">          99</td><td style=\"text-align: right;\"> 6.67329 </td><td style=\"text-align: right;\"> 59.1892  </td></tr>\n",
       "<tr><td>multi_objective_d06c493e</td><td>TERMINATED</td><td>127.0.0.1:31876</td><td>tanh        </td><td style=\"text-align: right;\">87.6639  </td><td style=\"text-align: right;\">16.6843 </td><td style=\"text-align: right;\">   100</td><td style=\"text-align: right;\">         10.3889</td><td style=\"text-align: right;\">          99</td><td style=\"text-align: right;\"> 8.82657 </td><td style=\"text-align: right;\">147.265   </td></tr>\n",
       "</tbody>\n",
       "</table>\n",
       "  </div>\n",
       "</div>\n",
       "<style>\n",
       ".tuneStatus {\n",
       "  color: var(--jp-ui-font-color1);\n",
       "}\n",
       ".tuneStatus .systemInfo {\n",
       "  display: flex;\n",
       "  flex-direction: column;\n",
       "}\n",
       ".tuneStatus td {\n",
       "  white-space: nowrap;\n",
       "}\n",
       ".tuneStatus .trialStatus {\n",
       "  display: flex;\n",
       "  flex-direction: column;\n",
       "}\n",
       ".tuneStatus h3 {\n",
       "  font-weight: bold;\n",
       "}\n",
       ".tuneStatus .hDivider {\n",
       "  border-bottom-width: var(--jp-border-width);\n",
       "  border-bottom-color: var(--jp-border-color0);\n",
       "  border-bottom-style: solid;\n",
       "}\n",
       ".tuneStatus .vDivider {\n",
       "  border-left-width: var(--jp-border-width);\n",
       "  border-left-color: var(--jp-border-color0);\n",
       "  border-left-style: solid;\n",
       "  margin: 0.5em 1em 0.5em 1em;\n",
       "}\n",
       "</style>\n"
      ],
      "text/plain": [
       "<IPython.core.display.HTML object>"
      ]
     },
     "metadata": {},
     "output_type": "display_data"
    }
   ],
   "source": [
    "searcher = OptunaSearch(metric=[\"loss\", \"gain\"], mode=[\"min\", \"max\"])\n",
    "algo = ConcurrencyLimiter(searcher, max_concurrent=4)\n",
    "\n",
    "tuner = tune.Tuner(\n",
    "    multi_objective,\n",
    "    tune_config=tune.TuneConfig(\n",
    "        search_alg=algo,\n",
    "        num_samples=num_samples,\n",
    "    ),\n",
    "    param_space=search_space\n",
    ")\n",
    "results = tuner.fit();"
   ]
  },
  {
   "attachments": {},
   "cell_type": "markdown",
   "id": "df42b8b3",
   "metadata": {},
   "source": [
    "Now there are two hyperparameter sets for the two objectives."
   ]
  },
  {
   "cell_type": "code",
   "execution_count": 47,
   "id": "183fef1a",
   "metadata": {},
   "outputs": [
    {
     "name": "stdout",
     "output_type": "stream",
     "text": [
      "Best hyperparameters for loss found were:  {'steps': 100, 'width': 7.470156545309241, 'height': -0.18422358405494332, 'activation': 'tanh'}\n",
      "Best hyperparameters for gain found were:  {'steps': 100, 'width': 16.500232255707147, 'height': 82.86565811614284, 'activation': 'relu'}\n"
     ]
    }
   ],
   "source": [
    "print(\"Best hyperparameters for loss found were: \", results.get_best_result(\"loss\", \"min\").config)\n",
    "print(\"Best hyperparameters for gain found were: \", results.get_best_result(\"gain\", \"max\").config)"
   ]
  },
  {
   "attachments": {},
   "cell_type": "markdown",
   "id": "cdf4d49a",
   "metadata": {},
   "source": [
    "We can mix-and-match the use of initial hyperparameter evaluations, conditional search spaces via define-by-run functions, and multi-objective tasks. This is also true of scheduler usage, with the exception of multi-objective optimization-- schedulers typically rely on a single scalar score, rather than the two scores we use here: loss, gain."
   ]
  },
  {
   "cell_type": "code",
   "execution_count": 48,
   "id": "a058fdb3",
   "metadata": {
    "tags": [
     "remove-cell"
    ]
   },
   "outputs": [],
   "source": [
    "ray.shutdown()"
   ]
  }
 ],
 "metadata": {
  "kernelspec": {
   "display_name": "optuna",
   "language": "python",
   "name": "python3"
  },
  "language_info": {
   "codemirror_mode": {
    "name": "ipython",
    "version": 3
   },
   "file_extension": ".py",
   "mimetype": "text/x-python",
   "name": "python",
   "nbconvert_exporter": "python",
   "pygments_lexer": "ipython3",
   "version": "3.11.11"
  },
  "orphan": true
 },
 "nbformat": 4,
 "nbformat_minor": 5
}
